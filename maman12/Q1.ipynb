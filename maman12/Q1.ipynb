{
 "cells": [
  {
   "cell_type": "code",
   "execution_count": 1,
   "metadata": {},
   "outputs": [],
   "source": [
    "from pomegranate import *\n",
    "import matplotlib.pyplot as plt\n",
    "import seaborn; seaborn.set_style('whitegrid')\n",
    "import numpy"
   ]
  },
  {
   "cell_type": "code",
   "execution_count": 2,
   "metadata": {},
   "outputs": [],
   "source": [
    "d1 = DiscreteDistribution({True: 0.3, False: 0.7})\n",
    "d2 = DiscreteDistribution({True: 0.4, False: 0.6})\n",
    "d3 = ConditionalProbabilityTable(\n",
    "        [[True,  True,  True,  0.8],\n",
    "         [True,  True,  False, 0.4],\n",
    "         [True,  False, True,  0.6],\n",
    "         [True,  False, False, 0.2],\n",
    "         [False, True,  True,  0.2],\n",
    "         [False, True,  False, 0.6],\n",
    "         [False, False, True,  0.4],\n",
    "         [False, False, False, 0.8]], [d1, d2])\n",
    "\n",
    "s1 = State(d1, name=\"Sugar\")\n",
    "s2 = State(d2, name=\"Gen\")\n",
    "s3 = State(d3, name=\"Obease\")\n",
    "\n",
    "model = BayesianNetwork()\n",
    "model.add_states(s1, s2, s3)\n",
    "model.add_edge(s1, s3)\n",
    "model.add_edge(s2, s3)\n",
    "model.bake()"
   ]
  },
  {
   "cell_type": "code",
   "execution_count": 3,
   "metadata": {},
   "outputs": [
    {
     "data": {
      "image/png": "[encoded data removed]",
      "text/plain": [
       "<Figure size 432x288 with 1 Axes>"
      ]
     },
     "metadata": {
      "needs_background": "light"
     },
     "output_type": "display_data"
    }
   ],
   "source": [
    "model.plot()"
   ]
  },
  {
   "cell_type": "code",
   "execution_count": 6,
   "metadata": {},
   "outputs": [
    {
     "data": {
      "text/plain": [
       "array([True, True,\n",
       "       {\n",
       "    \"class\" :\"Distribution\",\n",
       "    \"dtype\" :\"bool\",\n",
       "    \"name\" :\"DiscreteDistribution\",\n",
       "    \"parameters\" :[\n",
       "        {\n",
       "            \"False\" :0.3333333333333334,\n",
       "            \"True\" :0.6666666666666667\n",
       "        }\n",
       "    ],\n",
       "    \"frozen\" :false\n",
       "}], dtype=object)"
      ]
     },
     "execution_count": 6,
     "metadata": {},
     "output_type": "execute_result"
    }
   ],
   "source": [
    "model.predict_proba({'Sugar':True,'Gen':True})"
   ]
  },
  {
   "cell_type": "code",
   "execution_count": 18,
   "metadata": {},
   "outputs": [
    {
     "data": {
      "text/plain": [
       "((), (), (0, 1))"
      ]
     },
     "execution_count": 18,
     "metadata": {},
     "output_type": "execute_result"
    }
   ],
   "source": [
    "model.structure"
   ]
  },
  {
   "cell_type": "code",
   "execution_count": 19,
   "metadata": {},
   "outputs": [
    {
     "data": {
      "text/plain": [
       "[{\n",
       "     \"distribution\" : {\n",
       "         \"frozen\" : false,\n",
       "         \"dtype\" : \"bool\",\n",
       "         \"class\" : \"Distribution\",\n",
       "         \"parameters\" : [\n",
       "             {\n",
       "                 \"False\" : 0.7,\n",
       "                 \"True\" : 0.3\n",
       "             }\n",
       "         ],\n",
       "         \"name\" : \"DiscreteDistribution\"\n",
       "     },\n",
       "     \"class\" : \"State\",\n",
       "     \"weight\" : 1.0,\n",
       "     \"name\" : \"Sugar\"\n",
       " }, {\n",
       "     \"distribution\" : {\n",
       "         \"frozen\" : false,\n",
       "         \"dtype\" : \"bool\",\n",
       "         \"class\" : \"Distribution\",\n",
       "         \"parameters\" : [\n",
       "             {\n",
       "                 \"False\" : 0.6,\n",
       "                 \"True\" : 0.4\n",
       "             }\n",
       "         ],\n",
       "         \"name\" : \"DiscreteDistribution\"\n",
       "     },\n",
       "     \"class\" : \"State\",\n",
       "     \"weight\" : 1.0,\n",
       "     \"name\" : \"Gen\"\n",
       " }, {\n",
       "     \"distribution\" : {\n",
       "         \"table\" : [\n",
       "             [\n",
       "                 \"False\",\n",
       "                 \"False\",\n",
       "                 \"False\",\n",
       "                 \"0.8\"\n",
       "             ],\n",
       "             [\n",
       "                 \"False\",\n",
       "                 \"False\",\n",
       "                 \"True\",\n",
       "                 \"0.4\"\n",
       "             ],\n",
       "             [\n",
       "                 \"False\",\n",
       "                 \"True\",\n",
       "                 \"False\",\n",
       "                 \"0.6\"\n",
       "             ],\n",
       "             [\n",
       "                 \"False\",\n",
       "                 \"True\",\n",
       "                 \"True\",\n",
       "                 \"0.2\"\n",
       "             ],\n",
       "             [\n",
       "                 \"True\",\n",
       "                 \"False\",\n",
       "                 \"False\",\n",
       "                 \"0.2\"\n",
       "             ],\n",
       "             [\n",
       "                 \"True\",\n",
       "                 \"False\",\n",
       "                 \"True\",\n",
       "                 \"0.6\"\n",
       "             ],\n",
       "             [\n",
       "                 \"True\",\n",
       "                 \"True\",\n",
       "                 \"False\",\n",
       "                 \"0.4\"\n",
       "             ],\n",
       "             [\n",
       "                 \"True\",\n",
       "                 \"True\",\n",
       "                 \"True\",\n",
       "                 \"0.8\"\n",
       "             ]\n",
       "         ],\n",
       "         \"parents\" : [\n",
       "             {\n",
       "                 \"frozen\" : false,\n",
       "                 \"dtype\" : \"bool\",\n",
       "                 \"class\" : \"Distribution\",\n",
       "                 \"parameters\" : [\n",
       "                     {\n",
       "                         \"True\" : 0.3,\n",
       "                         \"False\" : 0.7\n",
       "                     }\n",
       "                 ],\n",
       "                 \"name\" : \"DiscreteDistribution\"\n",
       "             },\n",
       "             {\n",
       "                 \"frozen\" : false,\n",
       "                 \"dtype\" : \"bool\",\n",
       "                 \"class\" : \"Distribution\",\n",
       "                 \"parameters\" : [\n",
       "                     {\n",
       "                         \"True\" : 0.4,\n",
       "                         \"False\" : 0.6\n",
       "                     }\n",
       "                 ],\n",
       "                 \"name\" : \"DiscreteDistribution\"\n",
       "             }\n",
       "         ],\n",
       "         \"class\" : \"Distribution\",\n",
       "         \"name\" : \"ConditionalProbabilityTable\",\n",
       "         \"dtypes\" : [\n",
       "             \"bool\",\n",
       "             \"bool\",\n",
       "             \"bool\",\n",
       "             \"float\"\n",
       "         ]\n",
       "     },\n",
       "     \"class\" : \"State\",\n",
       "     \"weight\" : 1.0,\n",
       "     \"name\" : \"Obease\"\n",
       " }]"
      ]
     },
     "execution_count": 19,
     "metadata": {},
     "output_type": "execute_result"
    }
   ],
   "source": [
    "model.states"
   ]
  },
  {
   "cell_type": "code",
   "execution_count": null,
   "metadata": {},
   "outputs": [],
   "source": []
  }
 ],
 "metadata": {
  "kernelspec": {
   "display_name": "Python 3",
   "language": "python",
   "name": "python3"
  },
  "language_info": {
   "codemirror_mode": {
    "name": "ipython",
    "version": 3
   },
   "file_extension": ".py",
   "mimetype": "text/x-python",
   "name": "python",
   "nbconvert_exporter": "python",
   "pygments_lexer": "ipython3",
   "version": "3.6.8"
  }
 },
 "nbformat": 4,
 "nbformat_minor": 2
}

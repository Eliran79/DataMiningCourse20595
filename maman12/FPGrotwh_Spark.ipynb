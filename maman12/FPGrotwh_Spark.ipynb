{
 "cells": [
  {
   "cell_type": "code",
   "execution_count": 1,
   "metadata": {},
   "outputs": [],
   "source": [
    "from pyspark.context import SparkContext\n",
    "from pyspark.ml.fpm import FPGrowth\n",
    "from pyspark.sql import SparkSession"
   ]
  },
  {
   "cell_type": "code",
   "execution_count": 2,
   "metadata": {},
   "outputs": [],
   "source": [
    "sc = SparkContext('local')\n",
    "spark = SparkSession(sc)"
   ]
  },
  {
   "cell_type": "code",
   "execution_count": 3,
   "metadata": {},
   "outputs": [],
   "source": [
    "df = spark.createDataFrame( [(0, ['1', '4', '5']),\n",
    "                             (1, ['1', '2', '3', '5']),\n",
    "                             (2, ['1', '2', '4', '5']),\n",
    "                             (3, ['1', '3', '4', '5']),\n",
    "                             (4, ['2', '3', '5']),\n",
    "                             (5, ['2', '4', '5']),\n",
    "                             (6, ['3', '4']),\n",
    "                             (7, ['1', '2', '3']),\n",
    "                             (8, ['1','4','5']),\n",
    "                             (9, ['1', '2', '4'])], [\"id\", \"items\"])"
   ]
  },
  {
   "cell_type": "code",
   "execution_count": 4,
   "metadata": {},
   "outputs": [
    {
     "name": "stdout",
     "output_type": "stream",
     "text": [
      "root\n",
      " |-- id: long (nullable = true)\n",
      " |-- items: array (nullable = true)\n",
      " |    |-- element: string (containsNull = true)\n",
      "\n"
     ]
    }
   ],
   "source": [
    "df.printSchema()"
   ]
  },
  {
   "cell_type": "code",
   "execution_count": 54,
   "metadata": {},
   "outputs": [],
   "source": [
    "fpGrowth = FPGrowth(itemsCol=\"items\", minSupport=0.3, minConfidence=0.8)\n",
    "model = fpGrowth.fit(df)"
   ]
  },
  {
   "cell_type": "code",
   "execution_count": 55,
   "metadata": {},
   "outputs": [
    {
     "name": "stdout",
     "output_type": "stream",
     "text": [
      "+---------+----+\n",
      "|    items|freq|\n",
      "+---------+----+\n",
      "|      [1]|   7|\n",
      "|   [1, 5]|   5|\n",
      "|[1, 5, 4]|   4|\n",
      "|   [1, 4]|   5|\n",
      "|      [3]|   5|\n",
      "|   [3, 1]|   3|\n",
      "|   [3, 5]|   3|\n",
      "|   [3, 2]|   3|\n",
      "|      [5]|   7|\n",
      "|   [5, 4]|   5|\n",
      "|      [2]|   6|\n",
      "|   [2, 1]|   4|\n",
      "|   [2, 5]|   4|\n",
      "|   [2, 4]|   3|\n",
      "|      [4]|   7|\n",
      "+---------+----+\n",
      "\n"
     ]
    }
   ],
   "source": [
    "# Display frequent itemsets.\n",
    "model.freqItemsets.show()"
   ]
  },
  {
   "cell_type": "code",
   "execution_count": 56,
   "metadata": {},
   "outputs": [
    {
     "name": "stdout",
     "output_type": "stream",
     "text": [
      "+----------+----------+----------+-----------------+\n",
      "|antecedent|consequent|confidence|             lift|\n",
      "+----------+----------+----------+-----------------+\n",
      "|    [1, 4]|       [5]|       0.8|1.142857142857143|\n",
      "|    [5, 4]|       [1]|       0.8|1.142857142857143|\n",
      "|    [1, 5]|       [4]|       0.8|1.142857142857143|\n",
      "+----------+----------+----------+-----------------+\n",
      "\n"
     ]
    }
   ],
   "source": [
    "# Display generated association rules.\n",
    "model.associationRules.show()"
   ]
  },
  {
   "cell_type": "code",
   "execution_count": 34,
   "metadata": {},
   "outputs": [
    {
     "name": "stdout",
     "output_type": "stream",
     "text": [
      "+---+------------+----------+\n",
      "| id|       items|prediction|\n",
      "+---+------------+----------+\n",
      "|  0|   [1, 4, 5]|        []|\n",
      "|  1|[1, 2, 3, 5]|       [4]|\n",
      "|  2|[1, 2, 4, 5]|        []|\n",
      "|  3|[1, 3, 4, 5]|        []|\n",
      "|  4|   [2, 3, 5]|    [1, 4]|\n",
      "|  5|   [2, 4, 5]|       [1]|\n",
      "|  6|      [3, 4]|    [1, 5]|\n",
      "|  7|   [1, 2, 3]|    [5, 4]|\n",
      "|  8|   [1, 4, 5]|        []|\n",
      "|  9|   [1, 2, 4]|       [5]|\n",
      "+---+------------+----------+\n",
      "\n"
     ]
    }
   ],
   "source": [
    "# transform examines the input items against all the association rules and summarize the\n",
    "# consequents as prediction\n",
    "model.transform(df).show()"
   ]
  },
  {
   "cell_type": "code",
   "execution_count": 45,
   "metadata": {},
   "outputs": [],
   "source": [
    "spark.stop()"
   ]
  },
  {
   "cell_type": "code",
   "execution_count": null,
   "metadata": {},
   "outputs": [],
   "source": []
  }
 ],
 "metadata": {
  "kernelspec": {
   "display_name": "Python 3",
   "language": "python",
   "name": "python3"
  },
  "language_info": {
   "codemirror_mode": {
    "name": "ipython",
    "version": 3
   },
   "file_extension": ".py",
   "mimetype": "text/x-python",
   "name": "python",
   "nbconvert_exporter": "python",
   "pygments_lexer": "ipython3",
   "version": "3.6.8"
  }
 },
 "nbformat": 4,
 "nbformat_minor": 2
}
